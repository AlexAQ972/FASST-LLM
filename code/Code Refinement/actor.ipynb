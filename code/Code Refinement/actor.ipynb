{
 "cells": [
  {
   "cell_type": "code",
   "execution_count": null,
   "metadata": {},
   "outputs": [],
   "source": [
    "from pathlib import Path\n",
    "from Chat import Chat"
   ]
  },
  {
   "cell_type": "code",
   "execution_count": null,
   "metadata": {},
   "outputs": [],
   "source": [
    "api_key = \"your api key\"\n",
    "url = \"your api url\"\n",
    "\n",
    "suggestions_path = Path('/path/to/suggestions')\n",
    "guideline_path = Path('/path/to/guideline')\n",
    "doc_path = Path('/path/to/document')\n",
    "pre_code_path = Path('/path/to/pre/code')\n",
    "\n",
    "new_code_path = Path('/path/to/new/code')\n",
    "\n",
    "model = ''\n",
    "\n",
    "system_prompt = 'You are an experienced network service Golang developer. \\\n",
    "You are capable of generating improved network service scanning code based on\\\n",
    "the provided scanning code guidelines, service documentation, previous version \\\n",
    "scanning code, and code generation suggestions.'"
   ]
  },
  {
   "cell_type": "code",
   "execution_count": null,
   "metadata": {},
   "outputs": [],
   "source": [
    "chat = Chat(api_key=api_key, url=url, system_prompt=system_prompt)"
   ]
  },
  {
   "cell_type": "code",
   "execution_count": null,
   "metadata": {},
   "outputs": [],
   "source": [
    "with open(suggestions_path, 'r') as f:\n",
    "    suggestions = f.read()\n",
    "\n",
    "with open(pre_code_path, 'r') as f:\n",
    "    code = f.read()\n",
    "\n",
    "with open(guideline_path, 'r') as f:\n",
    "    guideline = f.read()\n",
    "\n",
    "with open(doc_path, 'r') as f:\n",
    "    doc = f.read()"
   ]
  },
  {
   "cell_type": "code",
   "execution_count": null,
   "metadata": {},
   "outputs": [],
   "source": [
    "actor_prompt = f'''Now, please generate the new scanning code based on \\\n",
    "the provided scanning code guidelines, service documentation, \\\n",
    "previous version scanning code, and code generation suggestions.\n",
    "This is the documentation:\n",
    "<doc>\n",
    "{doc}\n",
    "</doc>\n",
    "\n",
    "These are the guidelines:\n",
    "<guideline>\n",
    "{guideline}\n",
    "</guideline>\n",
    "\n",
    "These are the suggestions:\n",
    "<suggestions>\n",
    "{suggestions}\n",
    "</suggestions>\n",
    "\n",
    "This is the previous version code:\n",
    "<code>\n",
    "{code}\n",
    "</code>\n",
    "'''"
   ]
  },
  {
   "cell_type": "code",
   "execution_count": null,
   "metadata": {},
   "outputs": [],
   "source": [
    "result = chat.sendMessage(message=actor_prompt, model=model)\n",
    "new_code_path.touch(exist_ok=True)\n",
    "new_code_path.write_text(result)"
   ]
  }
 ],
 "metadata": {
  "kernelspec": {
   "display_name": "base",
   "language": "python",
   "name": "python3"
  },
  "language_info": {
   "name": "python",
   "version": "3.12.4"
  }
 },
 "nbformat": 4,
 "nbformat_minor": 2
}
