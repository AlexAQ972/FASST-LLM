{
 "cells": [
  {
   "cell_type": "code",
   "execution_count": null,
   "metadata": {},
   "outputs": [],
   "source": [
    "from pathlib import Path\n",
    "from Chat import Chat\n",
    "import json"
   ]
  },
  {
   "cell_type": "code",
   "execution_count": null,
   "metadata": {},
   "outputs": [],
   "source": [
    "api_key = \"your api key\"\n",
    "url = \"your api url\"\n",
    "code_path = Path('/path/to/your/code')\n",
    "suggestions_path = Path('/path/to/suggestions')\n",
    "with open(suggestions_path, 'r') as f:\n",
    "    suggestions = json.load(f)\n",
    "\n",
    "model = ''\n",
    "\n",
    "system_prompt = '''\\\n",
    "You are a highly experienced Golang developer in \\\n",
    "network application development. You are not only \\\n",
    "familiar with various protocols but also capable of \\\n",
    "identifying potential errors in the code.\n",
    "'''"
   ]
  },
  {
   "cell_type": "code",
   "execution_count": null,
   "metadata": {},
   "outputs": [],
   "source": [
    "if suggestions_path.exists():\n",
    "    with open(suggestions_path, 'r') as f:\n",
    "        suggestions = json.load(f)\n",
    "else:\n",
    "    suggestions_path.touch()\n",
    "    suggestions = []"
   ]
  },
  {
   "cell_type": "code",
   "execution_count": null,
   "metadata": {},
   "outputs": [],
   "source": [
    "chat = Chat(api_key=api_key, system_prompt=system_prompt)"
   ]
  },
  {
   "cell_type": "code",
   "execution_count": null,
   "metadata": {},
   "outputs": [],
   "source": [
    "logs = None # Please replace with the logs"
   ]
  },
  {
   "cell_type": "code",
   "execution_count": null,
   "metadata": {},
   "outputs": [],
   "source": [
    "with open(code_path, 'r') as f:\n",
    "    code = f.read()\n",
    "\n",
    "debug_prompt = f\"\"\"\n",
    "Here are the codes:\n",
    "<codes>\n",
    "{code}\n",
    "</codes>\n",
    "\n",
    "\n",
    "\"\"\"\n",
    "\n",
    "if logs is not None:\n",
    "    debug_prompt += f\"\"\"Here are the logs: \n",
    "<log>\n",
    "{logs}\n",
    "</logs>\n",
    "\n",
    "\n",
    "\"\"\"\n",
    "\n",
    "\n",
    "debug_prompt += 'Please give revision suggestions for codes according to the logs. You only need to provide suggestions, not the modified code.'"
   ]
  },
  {
   "cell_type": "code",
   "execution_count": null,
   "metadata": {},
   "outputs": [],
   "source": [
    "flag, debug_suggestion = chat.sendMessage(message=debug_prompt, model=model)\n",
    "if flag:\n",
    "    suggestions.append(debug_suggestion)"
   ]
  },
  {
   "cell_type": "code",
   "execution_count": null,
   "metadata": {},
   "outputs": [],
   "source": [
    "with open(suggestions_path, 'w') as f:\n",
    "    json.dump(suggestions, f)"
   ]
  }
 ],
 "metadata": {
  "kernelspec": {
   "display_name": "base",
   "language": "python",
   "name": "python3"
  },
  "language_info": {
   "codemirror_mode": {
    "name": "ipython",
    "version": 3
   },
   "file_extension": ".py",
   "mimetype": "text/x-python",
   "name": "python",
   "nbconvert_exporter": "python",
   "pygments_lexer": "ipython3",
   "version": "3.12.4"
  }
 },
 "nbformat": 4,
 "nbformat_minor": 2
}
