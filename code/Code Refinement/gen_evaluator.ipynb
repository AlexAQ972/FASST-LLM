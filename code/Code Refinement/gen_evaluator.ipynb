{
 "cells": [
  {
   "cell_type": "code",
   "execution_count": null,
   "metadata": {},
   "outputs": [],
   "source": [
    "from pathlib import Path\n",
    "from Chat import Chat"
   ]
  },
  {
   "cell_type": "code",
   "execution_count": null,
   "metadata": {},
   "outputs": [],
   "source": [
    "api_key = \"your api key\"\n",
    "url = \"your api url\"\n",
    "project_path = Path('/path/to/project/readme')\n",
    "\n",
    "model = ''\n",
    "\n",
    "service = 'the service name'\n",
    "\n",
    "dockerfile_path = Path('/path/to/dockerfile')\n",
    "\n",
    "system_prompt = 'You are a developer proficient in using Docker tools, and you can build new Dockerfiles by referencing existing open-source projects.'"
   ]
  },
  {
   "cell_type": "code",
   "execution_count": null,
   "metadata": {},
   "outputs": [],
   "source": [
    "chat = Chat(api_key=api_key, url=url, system_prompt=system_prompt)"
   ]
  },
  {
   "cell_type": "code",
   "execution_count": null,
   "metadata": {},
   "outputs": [],
   "source": [
    "with open(project_path, 'r') as f:\n",
    "    readme = f.read()"
   ]
  },
  {
   "cell_type": "code",
   "execution_count": null,
   "metadata": {},
   "outputs": [],
   "source": [
    "docker_prompt = f'''\n",
    "Here is the README of an open-source project for {service} service:\\\n",
    "<readme>\n",
    "{readme}\n",
    "</readme>\n",
    "\n",
    "Please help me write a Dockerfile to implement a simple {service} server using the above project, \\\n",
    "and ensure that the server is accessible from an external network.\\\n",
    "'''"
   ]
  },
  {
   "cell_type": "code",
   "execution_count": null,
   "metadata": {},
   "outputs": [],
   "source": [
    "result = chat.sendMessage(message=docker_prompt, model=model)\n",
    "dockerfile_path.touch(exist_ok=True)\n",
    "dockerfile_path.write_text(result)"
   ]
  }
 ],
 "metadata": {
  "kernelspec": {
   "display_name": "base",
   "language": "python",
   "name": "python3"
  },
  "language_info": {
   "name": "python",
   "version": "3.12.4"
  }
 },
 "nbformat": 4,
 "nbformat_minor": 2
}
